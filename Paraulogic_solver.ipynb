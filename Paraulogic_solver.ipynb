{
 "cells": [
  {
   "cell_type": "code",
   "execution_count": null,
   "id": "5182ae42",
   "metadata": {},
   "outputs": [],
   "source": [
    "import pandas as pd\n",
    "from bs4 import BeautifulSoup\n",
    "from urllib.error import HTTPError\n",
    "from urllib.error import URLError\n",
    "from urllib.request import urlopen, Request\n",
    "import regex as re"
   ]
  },
  {
   "cell_type": "code",
   "execution_count": null,
   "id": "8acf2a8e",
   "metadata": {},
   "outputs": [],
   "source": [
    "try:\n",
    "    req = Request('https://vilaweb.cat/paraulogic',\n",
    "                  headers={'user-agent':'Mozilla/5.0 (Macintosh; Intel Mac OS X 10_15_7) AppleWebKit/537.36 (KHTML, like Gecko) Chrome/99.0.4844.83 Safari/537.36',\n",
    "                          'authority':'vilaweb.cat'})\n",
    "except:\n",
    "    print('could not retrieve url')"
   ]
  },
  {
   "cell_type": "code",
   "execution_count": null,
   "id": "8adbe7f5",
   "metadata": {},
   "outputs": [],
   "source": [
    "html = urlopen(req)"
   ]
  },
  {
   "cell_type": "code",
   "execution_count": null,
   "id": "a4c21b75",
   "metadata": {},
   "outputs": [],
   "source": [
    "bs = BeautifulSoup(html,'html.parser')"
   ]
  },
  {
   "cell_type": "code",
   "execution_count": null,
   "id": "b26c32e5",
   "metadata": {},
   "outputs": [],
   "source": [
    "bs"
   ]
  },
  {
   "cell_type": "code",
   "execution_count": null,
   "id": "3afccac2",
   "metadata": {},
   "outputs": [],
   "source": [
    "hex_container = bs.find('div',{'class':'container-hexgrid'})"
   ]
  },
  {
   "cell_type": "code",
   "execution_count": null,
   "id": "95f82086",
   "metadata": {},
   "outputs": [],
   "source": [
    "must_letter = ''\n",
    "six_letters = []"
   ]
  },
  {
   "cell_type": "code",
   "execution_count": null,
   "id": "7351628e",
   "metadata": {},
   "outputs": [],
   "source": [
    "hex_container.find('ul').find_all('li')[2].find('div').find('a')"
   ]
  },
  {
   "cell_type": "code",
   "execution_count": null,
   "id": "59ac8147",
   "metadata": {},
   "outputs": [],
   "source": [
    "hex_container.find('ul')"
   ]
  },
  {
   "cell_type": "code",
   "execution_count": null,
   "id": "81917e3c",
   "metadata": {},
   "outputs": [],
   "source": [
    "#hex-grid > li:nth-child(1) > div > a > p"
   ]
  },
  {
   "cell_type": "markdown",
   "id": "12fc7b81",
   "metadata": {},
   "source": [
    "unfortunately, letters are hidden and not loaded within the url, probably there's some other call that retrieves them. We will have to use selenium"
   ]
  },
  {
   "cell_type": "code",
   "execution_count": null,
   "id": "c7aa1839",
   "metadata": {},
   "outputs": [],
   "source": [
    "try:\n",
    "    import geckodriver_autoinstaller\n",
    "except:\n",
    "    import sys\n",
    "    !{sys.executable} -m pip install geckodriver-autoinstaller\n",
    "    import geckodriver_autoinstaller\n",
    "from selenium.webdriver.firefox.options import Options\n",
    "from selenium import webdriver\n",
    "\n",
    "options = Options()\n",
    "    \n",
    "geckodriver_autoinstaller.install()"
   ]
  },
  {
   "cell_type": "code",
   "execution_count": null,
   "id": "5d42cc3a",
   "metadata": {},
   "outputs": [],
   "source": [
    "driver = webdriver.Firefox()"
   ]
  },
  {
   "cell_type": "code",
   "execution_count": null,
   "id": "ea556db1",
   "metadata": {},
   "outputs": [],
   "source": [
    "driver.get('https://vilaweb.cat/paraulogic/')"
   ]
  },
  {
   "cell_type": "code",
   "execution_count": null,
   "id": "f64bcd7d",
   "metadata": {},
   "outputs": [],
   "source": [
    "sel_hexcontainer = driver.find_element(by='tag name',value='div[class=container-hexgrid]')"
   ]
  },
  {
   "cell_type": "markdown",
   "id": "4ec7bf31",
   "metadata": {},
   "source": [
    "we recover the letter with selenium and store it in variables six_letters and must_letter"
   ]
  },
  {
   "cell_type": "code",
   "execution_count": null,
   "id": "c6d98642",
   "metadata": {},
   "outputs": [],
   "source": [
    "six_letters.append(sel_hexcontainer.find_elements(by='tag name',value='a')[0].text)\n",
    "six_letters.append(sel_hexcontainer.find_elements(by='tag name',value='a')[1].text)\n",
    "six_letters.append(sel_hexcontainer.find_elements(by='tag name',value='a')[2].text)\n",
    "must_letter = sel_hexcontainer.find_elements(by='tag name',value='a')[3].text\n",
    "six_letters.append(sel_hexcontainer.find_elements(by='tag name',value='a')[3].text)\n",
    "six_letters.append(sel_hexcontainer.find_elements(by='tag name',value='a')[4].text)\n",
    "six_letters.append(sel_hexcontainer.find_elements(by='tag name',value='a')[5].text)\n",
    "six_letters.append(sel_hexcontainer.find_elements(by='tag name',value='a')[6].text)\n",
    "    "
   ]
  },
  {
   "cell_type": "code",
   "execution_count": null,
   "id": "dae1ecc1",
   "metadata": {},
   "outputs": [],
   "source": [
    "six_letters # includes central letter too"
   ]
  },
  {
   "cell_type": "code",
   "execution_count": null,
   "id": "8b33930c",
   "metadata": {},
   "outputs": [],
   "source": [
    "six_letters_dict = {}\n",
    "count = 0\n",
    "for i in six_letters:\n",
    "    six_letters_dict[i] = count\n",
    "    count += 1"
   ]
  },
  {
   "cell_type": "code",
   "execution_count": null,
   "id": "93f767dd",
   "metadata": {},
   "outputs": [],
   "source": [
    "six_letters_dict"
   ]
  },
  {
   "cell_type": "code",
   "execution_count": null,
   "id": "d52b71f5",
   "metadata": {},
   "outputs": [],
   "source": [
    "must_letter"
   ]
  },
  {
   "cell_type": "code",
   "execution_count": null,
   "id": "b228ec3e",
   "metadata": {},
   "outputs": [],
   "source": [
    "#driver.close()"
   ]
  },
  {
   "cell_type": "markdown",
   "id": "0db499f7",
   "metadata": {},
   "source": [
    "getting a catalan dictionary to look for words"
   ]
  },
  {
   "cell_type": "code",
   "execution_count": null,
   "id": "6a2dac7f",
   "metadata": {},
   "outputs": [],
   "source": [
    "with open('./cat_dict.txt') as f:\n",
    "    file = f.read()"
   ]
  },
  {
   "cell_type": "code",
   "execution_count": null,
   "id": "d9c15f57",
   "metadata": {},
   "outputs": [],
   "source": [
    "cat_dict = file.split('\\n')"
   ]
  },
  {
   "cell_type": "markdown",
   "id": "af27913b",
   "metadata": {},
   "source": [
    "filter dict according to paraulogic conditions"
   ]
  },
  {
   "cell_type": "markdown",
   "id": "7b43b8de",
   "metadata": {},
   "source": [
    "1) at least 3 letter long words"
   ]
  },
  {
   "cell_type": "code",
   "execution_count": null,
   "id": "b957f5c5",
   "metadata": {},
   "outputs": [],
   "source": [
    "short_dict = [i for i in cat_dict if len(i) > 2]"
   ]
  },
  {
   "cell_type": "markdown",
   "id": "2773f1c4",
   "metadata": {},
   "source": [
    "2) must contain must_letter"
   ]
  },
  {
   "cell_type": "code",
   "execution_count": null,
   "id": "043f96d5",
   "metadata": {},
   "outputs": [],
   "source": [
    "must_dict = [i for i in short_dict if must_letter in i]"
   ]
  },
  {
   "cell_type": "markdown",
   "id": "89cd7b07",
   "metadata": {},
   "source": [
    "3) must contain only letter belonging to six_letters"
   ]
  },
  {
   "cell_type": "code",
   "execution_count": null,
   "id": "b9f88d8e",
   "metadata": {},
   "outputs": [],
   "source": [
    "final_dict = []\n",
    "\n",
    "for i in must_dict:\n",
    "    valid_word = True\n",
    "    \n",
    "    for x in i:\n",
    "        if x not in six_letters:\n",
    "            valid_word = False\n",
    "        else:\n",
    "            pass\n",
    "    \n",
    "    if valid_word:\n",
    "        final_dict.append(i)\n",
    "        "
   ]
  },
  {
   "cell_type": "code",
   "execution_count": null,
   "id": "11bf7490",
   "metadata": {},
   "outputs": [],
   "source": [
    "len(final_dict)"
   ]
  },
  {
   "cell_type": "code",
   "execution_count": null,
   "id": "f60fe43c",
   "metadata": {},
   "outputs": [],
   "source": [
    "for word in final_dict:\n",
    "    for letter in word:\n",
    "        try:\n",
    "            sel_hexcontainer.find_elements(by='tag name',value='a')[six_letters_dict[letter]].click()\n",
    "        except:\n",
    "            print('Ja està! ja tens totes les paraules!')\n",
    "            break\n",
    "    try:\n",
    "        driver.find_element(by='css selector',value='#submit-button').click()\n",
    "    except:\n",
    "        print('Ja està! no hi ha mes paraules')\n",
    "        break\n",
    "    \n",
    "        \n",
    "                           "
   ]
  },
  {
   "cell_type": "code",
   "execution_count": null,
   "id": "eafab036",
   "metadata": {},
   "outputs": [],
   "source": [
    "input('press enter to close ')\n",
    "driver.close()"
   ]
  },
  {
   "cell_type": "code",
   "execution_count": null,
   "id": "1125fcdd",
   "metadata": {},
   "outputs": [],
   "source": []
  }
 ],
 "metadata": {
  "kernelspec": {
   "display_name": "Python 3 (ipykernel)",
   "language": "python",
   "name": "python3"
  },
  "language_info": {
   "codemirror_mode": {
    "name": "ipython",
    "version": 3
   },
   "file_extension": ".py",
   "mimetype": "text/x-python",
   "name": "python",
   "nbconvert_exporter": "python",
   "pygments_lexer": "ipython3",
   "version": "3.9.7"
  }
 },
 "nbformat": 4,
 "nbformat_minor": 5
}
